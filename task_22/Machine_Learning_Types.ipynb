{
 "cells": [
  {
   "cell_type": "code",
   "execution_count": null,
   "id": "86e7df00",
   "metadata": {},
   "outputs": [],
   "source": [
    "                                     \"\"\"BWF-Usama Mahtab\"\"\""
   ]
  },
  {
   "cell_type": "markdown",
   "id": "4fb598a9",
   "metadata": {},
   "source": [
    "# Machine Learning:"
   ]
  },
  {
   "cell_type": "markdown",
   "id": "bd2b302a",
   "metadata": {},
   "source": [
    "***\n",
    "***1. Supervised Learning***\n",
    "\n",
    "***2. Unsupervised Learning***\n",
    "\n",
    "***3. Self-Supervised Learning***\n",
    "\n",
    "***4. Reinforcement Learning***\n",
    "\n",
    "***"
   ]
  },
  {
   "cell_type": "code",
   "execution_count": null,
   "id": "c5f08f84",
   "metadata": {},
   "outputs": [],
   "source": []
  },
  {
   "cell_type": "markdown",
   "id": "10c7bdc7",
   "metadata": {},
   "source": [
    "## Supervised Learning:"
   ]
  },
  {
   "cell_type": "markdown",
   "id": "20fb77b0",
   "metadata": {},
   "source": [
    "***Learning to map input data to labels or classes called annotation***"
   ]
  },
  {
   "cell_type": "markdown",
   "id": "e0306c3d",
   "metadata": {},
   "source": [
    "***Trained on labeled data i.e various set of examples annotated or labeled by humans are fed to machine***"
   ]
  },
  {
   "cell_type": "markdown",
   "id": "e5a16035",
   "metadata": {},
   "source": [
    "***Various Deeplearning tasks can be completed by Supervised learning i.e optical character\n",
    "recognition, speech recognition, image classification, and language translation***"
   ]
  },
  {
   "cell_type": "markdown",
   "id": "89d49926",
   "metadata": {},
   "source": [
    "***\n",
    "***Types are:***\n",
    "    \n",
    "***1. Classification: classifyin data according to two or more classes***\n",
    "    \n",
    "***2. Regression: Predicting future values on new data***\n",
    "    \n",
    "***3. Sequence generation: generate caption describing a picture(reformulated as series of classification problems)***\n",
    "    \n",
    "***4. Syntax tree prediction: decompose a sentense into syntax tree***\n",
    "    \n",
    "***5. Object detection: draw a boundry box around objects detected***\n",
    "    \n",
    "***5. Image segmentation: pixel level on specific objects***    \n",
    "\n",
    "***"
   ]
  },
  {
   "cell_type": "code",
   "execution_count": null,
   "id": "d6927315",
   "metadata": {},
   "outputs": [],
   "source": []
  },
  {
   "cell_type": "markdown",
   "id": "b6777d29",
   "metadata": {},
   "source": [
    "## Unsupervised Learning:"
   ]
  },
  {
   "cell_type": "markdown",
   "id": "cfdc72ff",
   "metadata": {},
   "source": [
    "***Trained on unlabeled data to find interesting tranformation in the data.***"
   ]
  },
  {
   "cell_type": "markdown",
   "id": "fb922a98",
   "metadata": {},
   "source": [
    "***Used for Data Visualization,data compression, or data denoising***"
   ]
  },
  {
   "cell_type": "markdown",
   "id": "5abdf879",
   "metadata": {},
   "source": [
    "***Understanding Correlations in the data***"
   ]
  },
  {
   "cell_type": "markdown",
   "id": "2fc2ecb2",
   "metadata": {},
   "source": [
    "***Often a necessary step in better understanding a dataset before attempting to solvea supervised-learning problem***"
   ]
  },
  {
   "cell_type": "markdown",
   "id": "b63ad841",
   "metadata": {},
   "source": [
    "***\n",
    "***Types are:***\n",
    "\n",
    "***1.Dimensionality reduction:  Dimensionality reduction is the process of reducing the number of features in a dataset while retaining as much information as possible.***\n",
    "\n",
    "***2. Clustering: Dividing into clusters or groups of related data***\n",
    "\n",
    "***"
   ]
  },
  {
   "cell_type": "code",
   "execution_count": null,
   "id": "1fcec11c",
   "metadata": {},
   "outputs": [],
   "source": []
  },
  {
   "cell_type": "markdown",
   "id": "c73666b1",
   "metadata": {},
   "source": [
    "## Self-Supervised Learning:"
   ]
  },
  {
   "cell_type": "markdown",
   "id": "a05bd8d6",
   "metadata": {},
   "source": [
    "***Self-supervised learning is supervised learning without human-annotated labels***"
   ]
  },
  {
   "cell_type": "markdown",
   "id": "3870ca53",
   "metadata": {},
   "source": [
    "***labels involved are generated from the input data, typically using a heuristic algorithm***"
   ]
  },
  {
   "cell_type": "markdown",
   "id": "7f4d51d3",
   "metadata": {},
   "source": [
    "***Eamples are:***\n",
    "\n",
    "***Trying to predict the next frame in a video, given past frames***\n",
    "\n",
    "***Next word in a text, given previous words***"
   ]
  },
  {
   "cell_type": "markdown",
   "id": "520b006d",
   "metadata": {},
   "source": [
    "Note: distinction between supervised, self-supervised, and unsupervised learning can be blurry sometimes—these categories are more of a continuum without solid borders. Self-supervised learning can be reinterpreted as either supervised or unsupervised learning, depending on whether you pay attention to the learning mechanism or to the context of its application"
   ]
  },
  {
   "cell_type": "code",
   "execution_count": null,
   "id": "cd7ab94c",
   "metadata": {},
   "outputs": [],
   "source": []
  },
  {
   "cell_type": "markdown",
   "id": "3e3220f8",
   "metadata": {},
   "source": [
    "## Reinforcement Learning:"
   ]
  },
  {
   "cell_type": "markdown",
   "id": "c6cedf87",
   "metadata": {},
   "source": [
    "***An agent is left to learn itself from the enviornment***"
   ]
  },
  {
   "cell_type": "markdown",
   "id": "b5339ad5",
   "metadata": {},
   "source": [
    "***Reward or Feedback mechanism is present to judge the progress of the agent***"
   ]
  },
  {
   "cell_type": "markdown",
   "id": "1561381a",
   "metadata": {},
   "source": [
    "***Agent Recieves reward when does a positive action***"
   ]
  },
  {
   "cell_type": "markdown",
   "id": "b9240057",
   "metadata": {},
   "source": [
    "***Agents learns to perform actions that maximizes the rewards***"
   ]
  },
  {
   "cell_type": "markdown",
   "id": "5b259a3d",
   "metadata": {},
   "source": [
    "***For instance, a neural network that “looks” at a video game screen and outputs game actions in order to maximize its score\n",
    "can be trained via reinforcement learning.***"
   ]
  },
  {
   "cell_type": "code",
   "execution_count": null,
   "id": "3c4951ca",
   "metadata": {},
   "outputs": [],
   "source": []
  }
 ],
 "metadata": {
  "kernelspec": {
   "display_name": "Python 3 (ipykernel)",
   "language": "python",
   "name": "python3"
  },
  "language_info": {
   "codemirror_mode": {
    "name": "ipython",
    "version": 3
   },
   "file_extension": ".py",
   "mimetype": "text/x-python",
   "name": "python",
   "nbconvert_exporter": "python",
   "pygments_lexer": "ipython3",
   "version": "3.9.16"
  }
 },
 "nbformat": 4,
 "nbformat_minor": 5
}
