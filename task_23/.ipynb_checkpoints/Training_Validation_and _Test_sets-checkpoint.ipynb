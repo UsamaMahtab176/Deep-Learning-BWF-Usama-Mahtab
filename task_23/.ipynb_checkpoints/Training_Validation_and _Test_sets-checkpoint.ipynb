{
 "cells": [
  {
   "cell_type": "code",
   "execution_count": null,
   "id": "025b3cb7",
   "metadata": {},
   "outputs": [],
   "source": [
    "                                         \"\"\"BWF - Usama Mahtab\"\"\""
   ]
  },
  {
   "cell_type": "code",
   "execution_count": null,
   "id": "af416b09",
   "metadata": {},
   "outputs": [],
   "source": []
  },
  {
   "cell_type": "markdown",
   "id": "c1623bbb",
   "metadata": {},
   "source": [
    "***Datasets are always divided into three sets:***\n",
    "\n",
    "***1. Training Set: Model is trained on this data***\n",
    "\n",
    "***2. Validation Set: After training performance of model is evaluated on this data***\n",
    "\n",
    "***3. Test Set: When model is ready, it is one final time tested on this set***"
   ]
  },
  {
   "cell_type": "code",
   "execution_count": null,
   "id": "7bb193ac",
   "metadata": {},
   "outputs": [],
   "source": []
  },
  {
   "cell_type": "markdown",
   "id": "ae38d70a",
   "metadata": {},
   "source": [
    "***Need for Validation Set:***"
   ]
  },
  {
   "cell_type": "markdown",
   "id": "5706c2a0",
   "metadata": {},
   "source": [
    "1. Developing a model always involves tuning its configuration: for example, choosing the number of layers or the size of the layers"
   ]
  },
  {
   "cell_type": "markdown",
   "id": "1a4f425d",
   "metadata": {},
   "source": [
    "2. Tuning the configuraition of the model done based on its performance on the validation set"
   ]
  },
  {
   "cell_type": "markdown",
   "id": "9addcb1b",
   "metadata": {},
   "source": [
    "3. At the end, You need to use a completely different, never-before-seen dataset to evaluate the model: the test dataset"
   ]
  },
  {
   "cell_type": "markdown",
   "id": "d8cf8a87",
   "metadata": {},
   "source": [
    "***Types of Validation Techniques:***"
   ]
  },
  {
   "cell_type": "markdown",
   "id": "5f0afd53",
   "metadata": {},
   "source": [
    "1. SIMPLE HOLD-OUT VALIDATION"
   ]
  },
  {
   "cell_type": "markdown",
   "id": "a6e19f0c",
   "metadata": {},
   "source": [
    "***--> Set apart some fraction of your data as your test set.***"
   ]
  },
  {
   "cell_type": "markdown",
   "id": "768e7aa3",
   "metadata": {},
   "source": [
    "***-->Train on the remaining data, and evaluate on the test set***"
   ]
  },
  {
   "cell_type": "code",
   "execution_count": null,
   "id": "0efffda7",
   "metadata": {},
   "outputs": [],
   "source": [
    "\n",
    "import numpy as np\n",
    "\n",
    "num_validation_samples = 10000\n",
    "np.random.shuffle(data)\n",
    "validation_data = data[:num_validation_samples]\n",
    "data = data[num_validation_samples:]\n",
    "training_data = data[:]\n",
    "model = get_model()\n",
    "model.train(training_data)\n",
    "validation_score = model.evaluate(validation_data)\n",
    "# At this point you can tune your model,\n",
    "# retrain it, evaluate it, tune it again...\n",
    "model = get_model()\n",
    "model.train(np.concatenate([training_data,\n",
    "validation_data]))\n",
    "test_score = model.evaluate(test_data)\n"
   ]
  },
  {
   "cell_type": "code",
   "execution_count": null,
   "id": "f8eb1adf",
   "metadata": {},
   "outputs": [],
   "source": []
  },
  {
   "cell_type": "markdown",
   "id": "d636ffa0",
   "metadata": {},
   "source": [
    "2. K-FOLD VALIDATION"
   ]
  },
  {
   "cell_type": "markdown",
   "id": "e1d17f75",
   "metadata": {},
   "source": [
    "***--> You split your data into K partitions of equal size***"
   ]
  },
  {
   "cell_type": "markdown",
   "id": "6582ad4e",
   "metadata": {},
   "source": [
    "***--> For each partition i, train a model on the remaining K – 1 partitions, and evaluate it on partition i.***"
   ]
  },
  {
   "cell_type": "code",
   "execution_count": null,
   "id": "d6671b3e",
   "metadata": {},
   "outputs": [],
   "source": [
    "\n",
    "k=4\n",
    "num_validation_samples = len(data) // k\n",
    "np.random.shuffle(data)\n",
    "validation_scores = []\n",
    "\n",
    "for fold in range(k):\n",
    "    validation_data = data[num_validation_samples * fold:\n",
    "    num_validation_samples * (fold + 1)]\n",
    "    training_data = data[:num_validation_samples * fold] +\n",
    "    data[num_validation_samples * (fold + 1):]\n",
    "    model = get_model()\n",
    "    model.train(training_data)\n",
    "    validation_score = model.evaluate(validation_data)\n",
    "    validation_scores.append(validation_score)\n",
    "\n",
    "validation_score = np.average(validation_scores)\n",
    "model = get_model()\n",
    "model.train(data)\n",
    "test_score = model.evaluate(test_data)\n"
   ]
  },
  {
   "cell_type": "code",
   "execution_count": null,
   "id": "c2ca0466",
   "metadata": {},
   "outputs": [],
   "source": []
  }
 ],
 "metadata": {
  "kernelspec": {
   "display_name": "Python 3 (ipykernel)",
   "language": "python",
   "name": "python3"
  },
  "language_info": {
   "codemirror_mode": {
    "name": "ipython",
    "version": 3
   },
   "file_extension": ".py",
   "mimetype": "text/x-python",
   "name": "python",
   "nbconvert_exporter": "python",
   "pygments_lexer": "ipython3",
   "version": "3.9.16"
  }
 },
 "nbformat": 4,
 "nbformat_minor": 5
}
