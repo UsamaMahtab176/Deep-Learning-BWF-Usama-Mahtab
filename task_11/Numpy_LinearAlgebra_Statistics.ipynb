{
 "cells": [
  {
   "cell_type": "markdown",
   "id": "9d5b4179",
   "metadata": {},
   "source": [
    "# Statistical Functions in Numpy"
   ]
  },
  {
   "cell_type": "code",
   "execution_count": 35,
   "id": "bed06fff",
   "metadata": {},
   "outputs": [],
   "source": [
    "import numpy as np"
   ]
  },
  {
   "cell_type": "code",
   "execution_count": 36,
   "id": "1685bb59",
   "metadata": {},
   "outputs": [
    {
     "data": {
      "text/plain": [
       "array([[0, 1],\n",
       "       [2, 3]])"
      ]
     },
     "execution_count": 36,
     "metadata": {},
     "output_type": "execute_result"
    }
   ],
   "source": [
    "arr = np.array([[0,1],[2, 3]])\n",
    "arr"
   ]
  },
  {
   "cell_type": "code",
   "execution_count": 37,
   "id": "e6b819a8",
   "metadata": {},
   "outputs": [
    {
     "data": {
      "text/plain": [
       "3"
      ]
     },
     "execution_count": 37,
     "metadata": {},
     "output_type": "execute_result"
    }
   ],
   "source": [
    "# Maximin number in an array\n",
    "arr.max()"
   ]
  },
  {
   "cell_type": "code",
   "execution_count": 38,
   "id": "07b4718a",
   "metadata": {},
   "outputs": [
    {
     "data": {
      "text/plain": [
       "0"
      ]
     },
     "execution_count": 38,
     "metadata": {},
     "output_type": "execute_result"
    }
   ],
   "source": [
    "# Minimum Number in Array\n",
    "arr.min()"
   ]
  },
  {
   "cell_type": "code",
   "execution_count": 39,
   "id": "547eeb3e",
   "metadata": {},
   "outputs": [
    {
     "data": {
      "text/plain": [
       "array([1, 3])"
      ]
     },
     "execution_count": 39,
     "metadata": {},
     "output_type": "execute_result"
    }
   ],
   "source": [
    "# Maximum values along second axis\n",
    "np.amax(arr,1)"
   ]
  },
  {
   "cell_type": "code",
   "execution_count": 40,
   "id": "3a59434b",
   "metadata": {},
   "outputs": [
    {
     "data": {
      "text/plain": [
       "array([0, 2])"
      ]
     },
     "execution_count": 40,
     "metadata": {},
     "output_type": "execute_result"
    }
   ],
   "source": [
    "# Minimum values along second axis\n",
    "np.amin(arr,1)"
   ]
  },
  {
   "cell_type": "code",
   "execution_count": 41,
   "id": "5662a1ba",
   "metadata": {},
   "outputs": [
    {
     "data": {
      "text/plain": [
       "3.4000000000000004"
      ]
     },
     "execution_count": 41,
     "metadata": {},
     "output_type": "execute_result"
    }
   ],
   "source": [
    "# 80 percentile of array\n",
    "arr = np.array([1.0, 2.0, 3.0, 4.0])\n",
    "np.percentile(arr,80)"
   ]
  },
  {
   "cell_type": "code",
   "execution_count": 42,
   "id": "dd9df0d9",
   "metadata": {},
   "outputs": [
    {
     "data": {
      "text/plain": [
       "5.5"
      ]
     },
     "execution_count": 42,
     "metadata": {},
     "output_type": "execute_result"
    }
   ],
   "source": [
    "# Median of Array\n",
    "arr = np.array([[0,1,2,3,4,5],[6,7,8,9,10,11]])\n",
    "np.median(arr)"
   ]
  },
  {
   "cell_type": "code",
   "execution_count": 43,
   "id": "271b457c",
   "metadata": {},
   "outputs": [
    {
     "data": {
      "text/plain": [
       "5.5"
      ]
     },
     "execution_count": 43,
     "metadata": {},
     "output_type": "execute_result"
    }
   ],
   "source": [
    "# Mean oof Array\n",
    "np.mean(arr)"
   ]
  },
  {
   "cell_type": "code",
   "execution_count": 44,
   "id": "9a92f0a2",
   "metadata": {},
   "outputs": [
    {
     "data": {
      "text/plain": [
       "3.452052529534663"
      ]
     },
     "execution_count": 44,
     "metadata": {},
     "output_type": "execute_result"
    }
   ],
   "source": [
    "# standard deviation\n",
    "np.std(arr)"
   ]
  },
  {
   "cell_type": "code",
   "execution_count": 45,
   "id": "ad39ab82",
   "metadata": {},
   "outputs": [
    {
     "data": {
      "text/plain": [
       "11.916666666666666"
      ]
     },
     "execution_count": 45,
     "metadata": {},
     "output_type": "execute_result"
    }
   ],
   "source": [
    "# Variance \n",
    "np.var(arr)"
   ]
  },
  {
   "cell_type": "code",
   "execution_count": 46,
   "id": "4fdcff53",
   "metadata": {},
   "outputs": [
    {
     "data": {
      "text/plain": [
       "array([[506.33333333, -27.16666667],\n",
       "       [-27.16666667, 522.33333333]])"
      ]
     },
     "execution_count": 46,
     "metadata": {},
     "output_type": "execute_result"
    }
   ],
   "source": [
    "# Convariance of Two Arrays\n",
    "arr1 = np.array([33,56,78])\n",
    "arr2 = np.array([23,61,20])\n",
    "np.cov(arr1,arr2)"
   ]
  },
  {
   "cell_type": "code",
   "execution_count": 47,
   "id": "fdd94dcb",
   "metadata": {},
   "outputs": [
    {
     "data": {
      "text/plain": [
       "array([468])"
      ]
     },
     "execution_count": 47,
     "metadata": {},
     "output_type": "execute_result"
    }
   ],
   "source": [
    "# Cross-Correlation of Two Arrays\n",
    "arr1 = np.array([7,9,14])\n",
    "arr2 = np.array([9,3,27])\n",
    "np.correlate(arr1,arr2)"
   ]
  },
  {
   "cell_type": "markdown",
   "id": "8d815333",
   "metadata": {},
   "source": [
    "# Linear algebraic fuctions in Numpy"
   ]
  },
  {
   "cell_type": "code",
   "execution_count": 48,
   "id": "62236d81",
   "metadata": {},
   "outputs": [
    {
     "data": {
      "text/plain": [
       "array([[1, 2],\n",
       "       [3, 4]])"
      ]
     },
     "execution_count": 48,
     "metadata": {},
     "output_type": "execute_result"
    }
   ],
   "source": [
    "# Dot Product of two matrices(2D Array)\n",
    "p = np.array([[1, 0], [0, 1]])\n",
    "q = np.array([[1, 2], [3, 4]])\n",
    "\n",
    "np.dot(p,q)"
   ]
  },
  {
   "cell_type": "code",
   "execution_count": 49,
   "id": "9555ec8d",
   "metadata": {},
   "outputs": [
    {
     "data": {
      "text/plain": [
       "array([[1, 2, 3, 4],\n",
       "       [0, 0, 0, 0],\n",
       "       [0, 0, 0, 0],\n",
       "       [1, 2, 3, 4]])"
      ]
     },
     "execution_count": 49,
     "metadata": {},
     "output_type": "execute_result"
    }
   ],
   "source": [
    "# Outer Product of two matrices(2D Array)\n",
    "p = np.array([[1, 0], [0, 1]])\n",
    "q = np.array([[1, 2], [3, 4]])\n",
    "\n",
    "np.outer(p,q)"
   ]
  },
  {
   "cell_type": "code",
   "execution_count": 50,
   "id": "29a8e014",
   "metadata": {},
   "outputs": [
    {
     "name": "stdout",
     "output_type": "stream",
     "text": [
      "[ 2 -3]\n",
      "[-2  3]\n"
     ]
    }
   ],
   "source": [
    "# Cross Product of Two matrices\n",
    "p = np.array([[1, 0], [0, 1]])\n",
    "q = np.array([[1, 2], [3, 4]])\n",
    "\n",
    "print(np.cross(p,q))\n",
    "\n",
    "print(np.cross(q,p))"
   ]
  },
  {
   "cell_type": "code",
   "execution_count": 51,
   "id": "9c7cc165",
   "metadata": {},
   "outputs": [
    {
     "data": {
      "text/plain": [
       "-2.9582283945787796e-30"
      ]
     },
     "execution_count": 51,
     "metadata": {},
     "output_type": "execute_result"
    }
   ],
   "source": [
    "# Determinant of Array\n",
    "arr = np.arange(16).reshape(4,4)\n",
    "np.linalg.det(arr)"
   ]
  },
  {
   "cell_type": "code",
   "execution_count": 52,
   "id": "3e9afa50",
   "metadata": {},
   "outputs": [
    {
     "data": {
      "text/plain": [
       "array([[-2. ,  1. ],\n",
       "       [ 1.5, -0.5]])"
      ]
     },
     "execution_count": 52,
     "metadata": {},
     "output_type": "execute_result"
    }
   ],
   "source": [
    "# Inverse of a matrix\n",
    "arr = np.array([[1,2],[3,4]])\n",
    "inverse = np.linalg.inv(arr)\n",
    "inverse"
   ]
  },
  {
   "cell_type": "code",
   "execution_count": 53,
   "id": "9abe6d67",
   "metadata": {},
   "outputs": [
    {
     "data": {
      "text/plain": [
       "2"
      ]
     },
     "execution_count": 53,
     "metadata": {},
     "output_type": "execute_result"
    }
   ],
   "source": [
    "# Rank of a Matrix\n",
    "arr = np.array([[1,2],[3,4]])\n",
    "np.linalg.matrix_rank(arr)"
   ]
  },
  {
   "cell_type": "code",
   "execution_count": null,
   "id": "8a04666b",
   "metadata": {},
   "outputs": [],
   "source": []
  }
 ],
 "metadata": {
  "kernelspec": {
   "display_name": "Python 3 (ipykernel)",
   "language": "python",
   "name": "python3"
  },
  "language_info": {
   "codemirror_mode": {
    "name": "ipython",
    "version": 3
   },
   "file_extension": ".py",
   "mimetype": "text/x-python",
   "name": "python",
   "nbconvert_exporter": "python",
   "pygments_lexer": "ipython3",
   "version": "3.9.12"
  }
 },
 "nbformat": 4,
 "nbformat_minor": 5
}
