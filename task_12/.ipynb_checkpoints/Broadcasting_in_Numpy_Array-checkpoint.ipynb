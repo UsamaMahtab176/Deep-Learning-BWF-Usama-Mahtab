{
 "cells": [
  {
   "cell_type": "markdown",
   "id": "09a981ba",
   "metadata": {},
   "source": [
    "# Broadcasting in Numpy"
   ]
  },
  {
   "cell_type": "code",
   "execution_count": 72,
   "id": "381d278f",
   "metadata": {},
   "outputs": [],
   "source": [
    "# Broadcasting describes that how arithmetic works between Arrays of Different shapes.."
   ]
  },
  {
   "cell_type": "code",
   "execution_count": 73,
   "id": "f422a62c",
   "metadata": {},
   "outputs": [],
   "source": [
    "import numpy as np"
   ]
  },
  {
   "cell_type": "code",
   "execution_count": 74,
   "id": "81146d16",
   "metadata": {},
   "outputs": [
    {
     "name": "stdout",
     "output_type": "stream",
     "text": [
      "[0 1 2 3 4]\n"
     ]
    },
    {
     "data": {
      "text/plain": [
       "array([ 0,  5, 10, 15, 20])"
      ]
     },
     "execution_count": 74,
     "metadata": {},
     "output_type": "execute_result"
    }
   ],
   "source": [
    "'''Combining Scalar value with array'''\n",
    "arr = np.arange(5)\n",
    "print(arr)\n",
    "arr = arr*5\n",
    "arr"
   ]
  },
  {
   "cell_type": "code",
   "execution_count": 75,
   "id": "c07b54d8",
   "metadata": {},
   "outputs": [
    {
     "name": "stdout",
     "output_type": "stream",
     "text": [
      "[[-0.83367328 -1.47605593 -0.70552126]\n",
      " [-1.50723949  0.39766357  0.20235573]\n",
      " [-0.15379618  0.70746138  1.41646114]\n",
      " [-1.30021772 -0.31893081  1.08862303]]\n",
      "\n",
      "[[ 0.11505839 -1.30359049 -1.20600092]\n",
      " [-0.55850783  0.57012902 -0.29812393]\n",
      " [ 0.79493549  0.87992683  0.91598148]\n",
      " [-0.35148605 -0.14646536  0.58814337]]\n",
      "\n",
      "[ 8.32667268e-17 -4.16333634e-17  5.55111512e-17]\n"
     ]
    }
   ],
   "source": [
    "'''De-meaning the array'''\n",
    "\n",
    "arr = np.random.randn(4,3)\n",
    "print(arr)\n",
    "print()\n",
    "arr.mean(0)  # Mean along axis 0\n",
    "demean = arr - arr.mean(0)\n",
    "print(demean)\n",
    "print()\n",
    "\n",
    "print(demean.mean(0))"
   ]
  },
  {
   "cell_type": "markdown",
   "id": "c9632da3",
   "metadata": {},
   "source": [
    "Shape Compatibility Rules:"
   ]
  },
  {
   "cell_type": "markdown",
   "id": "65aafa37",
   "metadata": {},
   "source": [
    "a) If x, y have a different number of dimensions, prepend 1's to the shape of the shorter."
   ]
  },
  {
   "cell_type": "markdown",
   "id": "042ec1db",
   "metadata": {},
   "source": [
    "b) Any axis of length 1 can be repeated (broadcast) to the length of the other vector's length in that axis"
   ]
  },
  {
   "cell_type": "markdown",
   "id": "4ee75345",
   "metadata": {},
   "source": [
    "c) All other axes must have matching lengths."
   ]
  },
  {
   "cell_type": "markdown",
   "id": "2b539bfa",
   "metadata": {},
   "source": [
    "'''Examples of Compatibility'''"
   ]
  },
  {
   "cell_type": "code",
   "execution_count": null,
   "id": "8d695e71",
   "metadata": {},
   "outputs": [],
   "source": [
    "\n",
    "'''Example 1'''\n",
    "\n",
    "x.shape == (2, 3)\n",
    "\n",
    "y.shape == (2, 3)  # compatible\n",
    "y.shape == (2, 1)  # compatible\n",
    "y.shape == (1, 3)  # compatible\n",
    "y.shape == (3,)  # compatible\n",
    "\n",
    "# results in (2, 3) shape\n",
    "\n",
    "y.shape == (3, 2)  # NOT compatible\n",
    "y.shape == (2,)  # NOT compatible\n"
   ]
  },
  {
   "cell_type": "code",
   "execution_count": null,
   "id": "0836d030",
   "metadata": {},
   "outputs": [],
   "source": [
    "\n",
    "'''Example 2'''\n",
    "\n",
    "x.shape == (1000, 256, 256, 256)\n",
    "\n",
    "y.shape == (1000, 256, 256, 256)  # compatible\n",
    "y.shape == (1000, 1, 256, 256)  # compatible\n",
    "y.shape == (1000, 1, 1, 256)  # compatible\n",
    "y.shape == (1, 256, 256, 256)  # compatible\n",
    "y.shape == (1, 1, 256, 1)  # compatible\n",
    "\n",
    "# results in (1000, 256, 256, 256) shape\n",
    "\n",
    "y.shape == (1000, 256, 256)  # NOT compatible\n"
   ]
  },
  {
   "cell_type": "code",
   "execution_count": null,
   "id": "6946fabb",
   "metadata": {},
   "outputs": [],
   "source": [
    "\n",
    "'''Example 3'''\n",
    "\n",
    "x.shape == (1, 2, 3, 5, 1, 11, 1, 17)\n",
    "y.shape ==          (1, 7, 1,  1, 17)  # compatible\n",
    "\n",
    "# results in shape (1, 2, 3, 5, 7, 11, 1, 17)\n"
   ]
  },
  {
   "cell_type": "markdown",
   "id": "d0a48190",
   "metadata": {},
   "source": [
    "Adding Arrays of Different Shapes"
   ]
  },
  {
   "cell_type": "code",
   "execution_count": 76,
   "id": "64138ec6",
   "metadata": {},
   "outputs": [
    {
     "name": "stdout",
     "output_type": "stream",
     "text": [
      "[[0]\n",
      " [1]\n",
      " [2]\n",
      " [3]]\n",
      "[[0 1 2 3]]\n"
     ]
    },
    {
     "data": {
      "text/plain": [
       "array([[0, 1, 2, 3],\n",
       "       [1, 2, 3, 4],\n",
       "       [2, 3, 4, 5],\n",
       "       [3, 4, 5, 6]])"
      ]
     },
     "execution_count": 76,
     "metadata": {},
     "output_type": "execute_result"
    }
   ],
   "source": [
    "'''Example 1'''\n",
    "\n",
    "v1 = np.arange(4).reshape(4,1)\n",
    "print(v1)\n",
    "\n",
    "v2 = np.arange(4).reshape(1,4)\n",
    "print(v2)\n",
    "\n",
    "v1+v2"
   ]
  },
  {
   "cell_type": "code",
   "execution_count": 77,
   "id": "fb43c8ff",
   "metadata": {},
   "outputs": [
    {
     "name": "stdout",
     "output_type": "stream",
     "text": [
      "[[  1   2   3]\n",
      " [ 13  14  15]\n",
      " [106 107 108]]\n"
     ]
    }
   ],
   "source": [
    "'''Example 2'''\n",
    "\n",
    "x = np.array([[0, 1, 2],\n",
    "              [3, 4, 5],\n",
    "              [6, 7, 8]])\n",
    "y = np.array([1, 10, 100]).reshape(3, 1)\n",
    "\n",
    "print(x + y)"
   ]
  },
  {
   "cell_type": "code",
   "execution_count": 78,
   "id": "72257d3b",
   "metadata": {},
   "outputs": [
    {
     "name": "stdout",
     "output_type": "stream",
     "text": [
      "[[[  1  11 102]\n",
      "  [  4  14 105]\n",
      "  [  7  17 108]]\n",
      "\n",
      " [[ 10  20 111]\n",
      "  [ 13  23 114]\n",
      "  [ 16  26 117]]]\n"
     ]
    }
   ],
   "source": [
    "'''Example 3'''\n",
    "\n",
    "x = np.array([[[0, 1, 2],\n",
    "               [3, 4, 5],\n",
    "               [6, 7, 8]],\n",
    "              [[9, 10, 11],\n",
    "               [12, 13, 14],\n",
    "               [15, 16, 17]]])  # shape (2, 3, 3)\n",
    "y = np.array([1, 10, 100])     # shape       (3,)\n",
    "\n",
    "print(x + y)\n"
   ]
  },
  {
   "cell_type": "code",
   "execution_count": 79,
   "id": "df3dc6e9",
   "metadata": {},
   "outputs": [
    {
     "name": "stdout",
     "output_type": "stream",
     "text": [
      "[[3 4 5]\n",
      " [4 5 6]\n",
      " [5 6 7]]\n"
     ]
    }
   ],
   "source": [
    "'''Example 4'''\n",
    "\n",
    "x = np.array([[0], [1], [2]])  # (3, 1)\n",
    "y = np.array([[3, 4, 5]])     # (1, 3)\n",
    "\n",
    "print(x + y)"
   ]
  },
  {
   "cell_type": "markdown",
   "id": "53561156",
   "metadata": {},
   "source": [
    "''' Broadcasting over other axis '''"
   ]
  },
  {
   "cell_type": "code",
   "execution_count": 80,
   "id": "1c28d817",
   "metadata": {},
   "outputs": [
    {
     "name": "stdout",
     "output_type": "stream",
     "text": [
      "[[ 0  1  2]\n",
      " [ 3  4  5]\n",
      " [ 6  7  8]\n",
      " [ 9 10 11]]\n"
     ]
    },
    {
     "ename": "ValueError",
     "evalue": "operands could not be broadcast together with shapes (4,3) (4,) ",
     "output_type": "error",
     "traceback": [
      "\u001b[1;31m---------------------------------------------------------------------------\u001b[0m",
      "\u001b[1;31mValueError\u001b[0m                                Traceback (most recent call last)",
      "Input \u001b[1;32mIn [80]\u001b[0m, in \u001b[0;36m<cell line: 5>\u001b[1;34m()\u001b[0m\n\u001b[0;32m      2\u001b[0m \u001b[38;5;28mprint\u001b[39m(arr)\n\u001b[0;32m      4\u001b[0m \u001b[38;5;66;03m# Not compatible for broadcasting\u001b[39;00m\n\u001b[1;32m----> 5\u001b[0m \u001b[43marr\u001b[49m\u001b[38;5;241;43m-\u001b[39;49m\u001b[43marr\u001b[49m\u001b[38;5;241;43m.\u001b[39;49m\u001b[43mmean\u001b[49m\u001b[43m(\u001b[49m\u001b[38;5;241;43m1\u001b[39;49m\u001b[43m)\u001b[49m\n",
      "\u001b[1;31mValueError\u001b[0m: operands could not be broadcast together with shapes (4,3) (4,) "
     ]
    }
   ],
   "source": [
    "arr = np.arange(12).reshape(4,3)\n",
    "print(arr)\n",
    "\n",
    "# Not compatible for broadcasting\n",
    "arr-arr.mean(1)"
   ]
  },
  {
   "cell_type": "code",
   "execution_count": 81,
   "id": "5eede6c3",
   "metadata": {},
   "outputs": [
    {
     "data": {
      "text/plain": [
       "array([[-1.,  0.,  1.],\n",
       "       [-1.,  0.,  1.],\n",
       "       [-1.,  0.,  1.],\n",
       "       [-1.,  0.,  1.]])"
      ]
     },
     "execution_count": 81,
     "metadata": {},
     "output_type": "execute_result"
    }
   ],
   "source": [
    "# Reshaping for compatibility for Broadcasting\n",
    "arr-arr.mean(1).reshape((4,1))"
   ]
  },
  {
   "cell_type": "markdown",
   "id": "7acefd43",
   "metadata": {},
   "source": [
    "Adding new axis using (np.newaxis) for Broadcasting purpose"
   ]
  },
  {
   "cell_type": "code",
   "execution_count": 82,
   "id": "5a679dbc",
   "metadata": {},
   "outputs": [
    {
     "name": "stdout",
     "output_type": "stream",
     "text": [
      "(4, 1, 4)\n",
      "[[ 0.10273   ]\n",
      " [-0.46242588]\n",
      " [-1.89056641]]\n"
     ]
    },
    {
     "data": {
      "text/plain": [
       "(1, 1, 3)"
      ]
     },
     "execution_count": 82,
     "metadata": {},
     "output_type": "execute_result"
    }
   ],
   "source": [
    "arr = np.zeros((4, 4))\n",
    "arr_3d = arr[:, np.newaxis, :]\n",
    "print(arr_3d.shape)\n",
    "\n",
    "arr_1d = np.random.normal(size=3)\n",
    "print(arr_1d[:,np.newaxis])\n",
    "\n",
    "\n",
    "arr = arr_1d[np.newaxis, :]\n",
    "\n",
    "arr[np.newaxis, :].shape\n"
   ]
  },
  {
   "cell_type": "code",
   "execution_count": 83,
   "id": "38553065",
   "metadata": {},
   "outputs": [
    {
     "name": "stdout",
     "output_type": "stream",
     "text": [
      "[[0.39859729 0.70980045 0.63172099 0.29588407]\n",
      " [0.73769204 0.26471627 0.59653321 0.36520167]\n",
      " [0.34172652 0.42075402 0.67339772 0.51421316]]\n",
      "(3, 4)\n"
     ]
    },
    {
     "data": {
      "text/plain": [
       "array([[0.39859729, 0.70980045, 0.63172099, 0.29588407],\n",
       "       [0.73769204, 0.26471627, 0.59653321, 0.36520167],\n",
       "       [0.34172652, 0.42075402, 0.67339772, 0.51421316]])"
      ]
     },
     "execution_count": 83,
     "metadata": {},
     "output_type": "execute_result"
    }
   ],
   "source": [
    "\n",
    "'''Demeanig a 3-D Array'''\n",
    "\n",
    "arr = np.random.rand(3,4,5)\n",
    "depth_means = arr.mean(2)\n",
    "\n",
    "print(depth_means)\n",
    "\n",
    "print(depth_means.shape)\n",
    "\n",
    "demeaned = arr = depth_means[:,:,np.newaxis]\n",
    "demeaned.mean(2)"
   ]
  },
  {
   "cell_type": "markdown",
   "id": "61f3c91e",
   "metadata": {},
   "source": [
    "'''Setting Array Values by Broadcasting''' "
   ]
  },
  {
   "cell_type": "code",
   "execution_count": 84,
   "id": "4dd90d6a",
   "metadata": {},
   "outputs": [
    {
     "data": {
      "text/plain": [
       "array([[5., 5., 5.],\n",
       "       [5., 5., 5.],\n",
       "       [5., 5., 5.],\n",
       "       [5., 5., 5.]])"
      ]
     },
     "execution_count": 84,
     "metadata": {},
     "output_type": "execute_result"
    }
   ],
   "source": [
    "arr = np.zeros((4,3))\n",
    "\n",
    "arr[:] = 5\n",
    "\n",
    "arr"
   ]
  },
  {
   "cell_type": "code",
   "execution_count": 85,
   "id": "f7ec5f11",
   "metadata": {},
   "outputs": [
    {
     "data": {
      "text/plain": [
       "array([[ 1.28,  1.28,  1.28],\n",
       "       [-0.42, -0.42, -0.42],\n",
       "       [ 0.44,  0.44,  0.44],\n",
       "       [ 1.6 ,  1.6 ,  1.6 ]])"
      ]
     },
     "execution_count": 85,
     "metadata": {},
     "output_type": "execute_result"
    }
   ],
   "source": [
    "col = np.array([1.28, -0.42, 0.44, 1.6])\n",
    "arr[:] = col[:, np.newaxis]\n",
    "arr"
   ]
  },
  {
   "cell_type": "code",
   "execution_count": 86,
   "id": "c5d8be25",
   "metadata": {},
   "outputs": [
    {
     "data": {
      "text/plain": [
       "array([[-1.33, -1.33, -1.33],\n",
       "       [ 0.58,  0.58,  0.58],\n",
       "       [ 0.44,  0.44,  0.44],\n",
       "       [ 1.6 ,  1.6 ,  1.6 ]])"
      ]
     },
     "execution_count": 86,
     "metadata": {},
     "output_type": "execute_result"
    }
   ],
   "source": [
    "arr[:2] = [[-1.33],[0.580]]\n",
    "arr"
   ]
  },
  {
   "cell_type": "code",
   "execution_count": null,
   "id": "ebc16262",
   "metadata": {},
   "outputs": [],
   "source": []
  }
 ],
 "metadata": {
  "kernelspec": {
   "display_name": "Python 3 (ipykernel)",
   "language": "python",
   "name": "python3"
  },
  "language_info": {
   "codemirror_mode": {
    "name": "ipython",
    "version": 3
   },
   "file_extension": ".py",
   "mimetype": "text/x-python",
   "name": "python",
   "nbconvert_exporter": "python",
   "pygments_lexer": "ipython3",
   "version": "3.9.12"
  }
 },
 "nbformat": 4,
 "nbformat_minor": 5
}
