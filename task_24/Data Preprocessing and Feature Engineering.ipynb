{
 "cells": [
  {
   "cell_type": "code",
   "execution_count": null,
   "id": "4c15a7ed",
   "metadata": {},
   "outputs": [],
   "source": [
    "                                               \"\"\"BWF - Usama Mahtab\"\"\""
   ]
  },
  {
   "cell_type": "code",
   "execution_count": null,
   "id": "88a049ef",
   "metadata": {},
   "outputs": [],
   "source": [
    "''''''''''''''''''''''''''''''''''''''''''''''''''''Task-24'''''''''''''''''''''''''''''''''''''''''''''''''''''''''''''''''''''"
   ]
  },
  {
   "cell_type": "markdown",
   "id": "c188337f",
   "metadata": {},
   "source": [
    "# --> Data preprocessing and Feature engineering"
   ]
  },
  {
   "cell_type": "markdown",
   "id": "4d195067",
   "metadata": {},
   "source": [
    "***\n",
    "Before feeding the data into the neural network or before model developement there is need to prepare data or make it more meaningful for the model or neural network.\n",
    "***"
   ]
  },
  {
   "cell_type": "markdown",
   "id": "1e70d6ae",
   "metadata": {},
   "source": [
    "# ***--> Data Preprocessing***"
   ]
  },
  {
   "cell_type": "markdown",
   "id": "79a6adea",
   "metadata": {},
   "source": [
    "***\n",
    "Makes the raw data more ameanable to the neural network.\n",
    "***\n",
    "\n",
    "***\n",
    "Following techniques are used for Data preprocessing:\n",
    "\n",
    "1. VECTORIZATION\n",
    "2. VALUE NORMALIZATION\n",
    "3. HANDLING MISSING VALUES\n",
    "***"
   ]
  },
  {
   "cell_type": "markdown",
   "id": "1c0741c9",
   "metadata": {},
   "source": [
    "## ***1. Vectorization:***"
   ]
  },
  {
   "cell_type": "markdown",
   "id": "285be0d0",
   "metadata": {},
   "source": [
    "***\n",
    "-> Inputs and targets in a neural network must be tensors of floating-point data (or, in specific cases, tensors of integers).\n",
    "\n",
    "-> Thus, Data Vectorization is done to convert the raw data(i.e Images, Sounds, Text, etc) into 'Tensors' or float/int.\n",
    "\n",
    "-> For instance, in the two previous text-classification examples, we started from text represented as lists of integers    (standing for sequences of words), and we used one-hot encoding to turn them into a tensor of float32 data\n",
    "***"
   ]
  },
  {
   "cell_type": "markdown",
   "id": "59d8f56b",
   "metadata": {},
   "source": [
    "## ***2. Value Normalization:***"
   ]
  },
  {
   "cell_type": "markdown",
   "id": "dc974d91",
   "metadata": {},
   "source": [
    "***\n",
    "-> To make learning easier for your network, your data should have the following characteristics:\n",
    "\n",
    "   1. Take small values—Typically, most values should be in the 0–1 range.\n",
    "   2. Be homogenous—That is, all features should take values in roughly the same range.\n",
    "\n",
    "Example 1:\n",
    "In the digit-classification example, you started from image data encoded as integers in the 0–255 range, encoding grayscale values. Before you fed this data into your network, you had to cast it to float32 and divide by 255 so you’d end up with floating point values in the 0–1 range.\n",
    "\n",
    "Example 2:\n",
    "Similarly, when predicting house prices, you started from features that took a variety of ranges—some features had small floating-point values, others had fairly large integer values. Before you fed this data into your network, you had to normalize each feature independently so that it had a standard deviation\n",
    "of 1 and a mean of 0\n",
    "\n",
    "\n",
    "***"
   ]
  },
  {
   "cell_type": "markdown",
   "id": "659084eb",
   "metadata": {},
   "source": [
    "## ***3. Handling Missing Values:***"
   ]
  },
  {
   "cell_type": "markdown",
   "id": "71ec11e1",
   "metadata": {},
   "source": [
    "***\n",
    "-> Sometime your data can contain the missing values.\n",
    "\n",
    "-> In general, with neural networks, it’s safe to input missing values as 0, with the condition that 0 isn’t already a meaningful value. The network will learn from exposure to the data that the value 0 means missing data and will start ignoring the value.\n",
    "\n",
    "***"
   ]
  },
  {
   "cell_type": "markdown",
   "id": "50d1a5c2",
   "metadata": {},
   "source": [
    "***\n",
    "***Note:***\n",
    "\n",
    "If you’re expecting missing values in the test data, but the network was trained on data without any missing values, the network won’t have learned to ignore missing values!\n",
    "\n",
    "In this situation, you should artificially generate training samples with missing entries: copy some training samples several times, and drop some of the features that you expect are likely to be missing in the test data. \n",
    "\n",
    "***"
   ]
  },
  {
   "cell_type": "markdown",
   "id": "a89deb4f",
   "metadata": {},
   "source": [
    "# ***-->Feature Engineering***"
   ]
  },
  {
   "cell_type": "markdown",
   "id": "b4cd6289",
   "metadata": {},
   "source": [
    "***\n",
    "--> The data needs to be presented to the model in a way that will make the model’s job easier.\n",
    "\n",
    "--> Using your own knowledge about the data and algorithm to make the algorithm work better.\n",
    "\n",
    "--> Hardcoded transformations are applied to the data before it goes into the model.\n",
    "***\n"
   ]
  },
  {
   "cell_type": "markdown",
   "id": "49e3bc57",
   "metadata": {},
   "source": [
    "Note:\n",
    "\n",
    "--> Modern day deep learning removes the need for most feature engineering because neural networks can automatically extract useful features from raw data.\n",
    "\n",
    "   BUT \n",
    "   \n",
    "It does not mean you don’t have to worry about feature engineering as long as you’re using deep neural networks.\n",
    "\n",
    "Because,\n",
    "\n",
    "1. Good features still allow you to solve problems more elegantly while using fewer resources.\n",
    "2. Good features let you solve a problem with far less data \n"
   ]
  },
  {
   "cell_type": "code",
   "execution_count": null,
   "id": "5589207d",
   "metadata": {},
   "outputs": [],
   "source": []
  }
 ],
 "metadata": {
  "kernelspec": {
   "display_name": "Python 3 (ipykernel)",
   "language": "python",
   "name": "python3"
  },
  "language_info": {
   "codemirror_mode": {
    "name": "ipython",
    "version": 3
   },
   "file_extension": ".py",
   "mimetype": "text/x-python",
   "name": "python",
   "nbconvert_exporter": "python",
   "pygments_lexer": "ipython3",
   "version": "3.9.16"
  }
 },
 "nbformat": 4,
 "nbformat_minor": 5
}
