{
 "cells": [
  {
   "cell_type": "markdown",
   "id": "787fccd9",
   "metadata": {},
   "source": [
    "# Numpy Introduction"
   ]
  },
  {
   "cell_type": "code",
   "execution_count": 114,
   "id": "be07b6f9",
   "metadata": {},
   "outputs": [],
   "source": [
    "import numpy as np"
   ]
  },
  {
   "cell_type": "markdown",
   "id": "d781dda3",
   "metadata": {},
   "source": [
    "Comparing Time Complexity of np.array with list"
   ]
  },
  {
   "cell_type": "code",
   "execution_count": 115,
   "id": "df010944",
   "metadata": {},
   "outputs": [],
   "source": [
    "my_array = np.arange(1000000)"
   ]
  },
  {
   "cell_type": "code",
   "execution_count": 116,
   "id": "81b3c492",
   "metadata": {},
   "outputs": [],
   "source": [
    "my_list = list(range(1000000))"
   ]
  },
  {
   "cell_type": "code",
   "execution_count": 117,
   "id": "f52f57a5",
   "metadata": {},
   "outputs": [
    {
     "name": "stdout",
     "output_type": "stream",
     "text": [
      "CPU times: total: 31.2 ms\n",
      "Wall time: 23.9 ms\n"
     ]
    }
   ],
   "source": [
    "# Calculation time for operation on np.array\n",
    "%time for _ in range(10): arr2 = my_array * 2"
   ]
  },
  {
   "cell_type": "code",
   "execution_count": 118,
   "id": "7468b472",
   "metadata": {},
   "outputs": [
    {
     "name": "stdout",
     "output_type": "stream",
     "text": [
      "CPU times: total: 328 ms\n",
      "Wall time: 343 ms\n"
     ]
    }
   ],
   "source": [
    "# Calculating time for operations on list\n",
    "%time for _ in range(10): list2 = my_list * 2"
   ]
  },
  {
   "cell_type": "markdown",
   "id": "9531340d",
   "metadata": {},
   "source": [
    "So, Array is faster than list on large data"
   ]
  },
  {
   "cell_type": "markdown",
   "id": "5fd08041",
   "metadata": {},
   "source": [
    "1D Array"
   ]
  },
  {
   "cell_type": "code",
   "execution_count": 119,
   "id": "53a11b9b",
   "metadata": {},
   "outputs": [
    {
     "data": {
      "text/plain": [
       "array([2, 3, 4, 5, 6, 7, 8, 9])"
      ]
     },
     "execution_count": 119,
     "metadata": {},
     "output_type": "execute_result"
    }
   ],
   "source": [
    "import numpy as np\n",
    "arr1D = np.arange(2,10)\n",
    "arr1"
   ]
  },
  {
   "cell_type": "markdown",
   "id": "68e6b70f",
   "metadata": {},
   "source": [
    "2d Array"
   ]
  },
  {
   "cell_type": "code",
   "execution_count": 120,
   "id": "06096392",
   "metadata": {},
   "outputs": [
    {
     "data": {
      "text/plain": [
       "array([[2, 3, 4, 5],\n",
       "       [6, 7, 8, 9]])"
      ]
     },
     "execution_count": 120,
     "metadata": {},
     "output_type": "execute_result"
    }
   ],
   "source": [
    "import numpy as np\n",
    "arr2D = np.arange(2,10).reshape(2,4)\n",
    "arr2D"
   ]
  },
  {
   "cell_type": "markdown",
   "id": "565e9ba8",
   "metadata": {},
   "source": [
    "3D Array"
   ]
  },
  {
   "cell_type": "code",
   "execution_count": 121,
   "id": "47250237",
   "metadata": {},
   "outputs": [
    {
     "data": {
      "text/plain": [
       "array([[[ 2,  3],\n",
       "        [ 4,  5],\n",
       "        [ 6,  7]],\n",
       "\n",
       "       [[ 8,  9],\n",
       "        [10, 11],\n",
       "        [12, 13]],\n",
       "\n",
       "       [[14, 15],\n",
       "        [16, 17],\n",
       "        [18, 19]]])"
      ]
     },
     "execution_count": 121,
     "metadata": {},
     "output_type": "execute_result"
    }
   ],
   "source": [
    "import numpy as np\n",
    "arr3D = np.arange(2,20).reshape(3,3,2)\n",
    "arr3D"
   ]
  },
  {
   "cell_type": "code",
   "execution_count": 122,
   "id": "bb531355",
   "metadata": {},
   "outputs": [],
   "source": [
    "import numpy as np"
   ]
  },
  {
   "cell_type": "code",
   "execution_count": 123,
   "id": "c57cca0d",
   "metadata": {},
   "outputs": [
    {
     "name": "stdout",
     "output_type": "stream",
     "text": [
      "Original Array\n",
      "[ 2  3  4  5  6  7  8  9 10 11 12 13 14 15 16 17 18 19]\n",
      "After Reversing\n"
     ]
    },
    {
     "data": {
      "text/plain": [
       "array([19, 18, 17, 16, 15, 14, 13, 12, 11, 10,  9,  8,  7,  6,  5,  4,  3,\n",
       "        2])"
      ]
     },
     "execution_count": 123,
     "metadata": {},
     "output_type": "execute_result"
    }
   ],
   "source": [
    "# Reverse any array\n",
    "ar1 = np.array(range(2,20))\n",
    "print(\"Original Array\")\n",
    "print(ar1)\n",
    "print(\"After Reversing\")\n",
    "ar2 = ar1[::-1]\n",
    "ar2"
   ]
  },
  {
   "cell_type": "code",
   "execution_count": 124,
   "id": "177d7c22",
   "metadata": {},
   "outputs": [
    {
     "name": "stdout",
     "output_type": "stream",
     "text": [
      "[[1. 1. 1. 1. 1.]\n",
      " [1. 1. 1. 1. 1.]\n",
      " [1. 1. 1. 1. 1.]\n",
      " [1. 1. 1. 1. 1.]\n",
      " [1. 1. 1. 1. 1.]]\n"
     ]
    },
    {
     "data": {
      "text/plain": [
       "array([[1., 1., 1., 1., 1.],\n",
       "       [1., 0., 0., 0., 1.],\n",
       "       [1., 0., 0., 0., 1.],\n",
       "       [1., 0., 0., 0., 1.],\n",
       "       [1., 1., 1., 1., 1.]])"
      ]
     },
     "execution_count": 124,
     "metadata": {},
     "output_type": "execute_result"
    }
   ],
   "source": [
    "# creating a 2d array with 1 on the border and 0 inside\n",
    "ar3 = np.ones((5,5))\n",
    "print(ar3)\n",
    "ar3[1:-1,1:-1] = 0\n",
    "ar3"
   ]
  },
  {
   "cell_type": "code",
   "execution_count": 125,
   "id": "23a3a686",
   "metadata": {},
   "outputs": [
    {
     "data": {
      "text/plain": [
       "array([[ 0,  1,  2,  3],\n",
       "       [ 4,  5,  6,  7],\n",
       "       [ 8,  9, 10, 11],\n",
       "       [12, 13, 14, 15]])"
      ]
     },
     "execution_count": 125,
     "metadata": {},
     "output_type": "execute_result"
    }
   ],
   "source": [
    "# Creating an 2D array\n",
    "ar4 = np.arange(16).reshape(4,4)\n",
    "ar4"
   ]
  },
  {
   "cell_type": "code",
   "execution_count": 126,
   "id": "3e24196e",
   "metadata": {},
   "outputs": [],
   "source": [
    "# Accessing elements of array by indexes and updating them"
   ]
  },
  {
   "cell_type": "code",
   "execution_count": 127,
   "id": "35b0177b",
   "metadata": {},
   "outputs": [],
   "source": [
    "ar4[1,1] =0"
   ]
  },
  {
   "cell_type": "code",
   "execution_count": 128,
   "id": "ac49ea96",
   "metadata": {},
   "outputs": [],
   "source": [
    "ar4[1,2]=0"
   ]
  },
  {
   "cell_type": "code",
   "execution_count": 129,
   "id": "10c40ca2",
   "metadata": {},
   "outputs": [],
   "source": [
    "ar4[2,1]=0"
   ]
  },
  {
   "cell_type": "code",
   "execution_count": 130,
   "id": "f825851b",
   "metadata": {},
   "outputs": [],
   "source": [
    "ar4[2,2]=0"
   ]
  },
  {
   "cell_type": "code",
   "execution_count": 131,
   "id": "40138b98",
   "metadata": {},
   "outputs": [
    {
     "data": {
      "text/plain": [
       "array([[ 0,  1,  2,  3],\n",
       "       [ 4,  0,  0,  7],\n",
       "       [ 8,  0,  0, 11],\n",
       "       [12, 13, 14, 15]])"
      ]
     },
     "execution_count": 131,
     "metadata": {},
     "output_type": "execute_result"
    }
   ],
   "source": [
    "ar4"
   ]
  },
  {
   "cell_type": "code",
   "execution_count": 132,
   "id": "2d548e32",
   "metadata": {},
   "outputs": [
    {
     "name": "stdout",
     "output_type": "stream",
     "text": [
      "Before Updating\n",
      "[[ 0  1  2  3  4  5  6  7]\n",
      " [ 8  9 10 11 12 13 14 15]\n",
      " [16 17 18 19 20 21 22 23]\n",
      " [24 25 26 27 28 29 30 31]\n",
      " [32 33 34 35 36 37 38 39]\n",
      " [40 41 42 43 44 45 46 47]\n",
      " [48 49 50 51 52 53 54 55]\n",
      " [56 57 58 59 60 61 62 63]]\n",
      "After updating\n"
     ]
    },
    {
     "data": {
      "text/plain": [
       "array([[0, 1, 0, 1, 0, 1, 0, 1],\n",
       "       [1, 0, 1, 0, 1, 0, 1, 0],\n",
       "       [0, 1, 0, 1, 0, 1, 0, 1],\n",
       "       [1, 0, 1, 0, 1, 0, 1, 0],\n",
       "       [0, 1, 0, 1, 0, 1, 0, 1],\n",
       "       [1, 0, 1, 0, 1, 0, 1, 0],\n",
       "       [0, 1, 0, 1, 0, 1, 0, 1],\n",
       "       [1, 0, 1, 0, 1, 0, 1, 0]])"
      ]
     },
     "execution_count": 132,
     "metadata": {},
     "output_type": "execute_result"
    }
   ],
   "source": [
    "# Creating 8x8 array\n",
    "ar5 = np.arange(64).reshape(8,8)\n",
    "print(\"Before Updating\")\n",
    "print(ar5)\n",
    "# Updating Selected values of array\n",
    "for i in range(8):\n",
    "    for j in range(8):\n",
    "        if (i+j)%2 == 0:\n",
    "            ar5[i,j] = 0\n",
    "        else:\n",
    "            ar5[i,j] = 1\n",
    "print(\"After updating\")\n",
    "ar5"
   ]
  },
  {
   "cell_type": "code",
   "execution_count": 133,
   "id": "9b0d68fa",
   "metadata": {},
   "outputs": [
    {
     "name": "stdout",
     "output_type": "stream",
     "text": [
      "list to arary:\n",
      "[2 3 4 5 6 7]\n",
      "Tuple to array:\n",
      "[[8 4 6]\n",
      " [1 2 3]]\n"
     ]
    }
   ],
   "source": [
    "# list and tuple into array\n",
    "my_list = [2,3,4,5,6,7]\n",
    "print(\"list to arary:\")\n",
    "print(np.asarray(my_list))\n",
    "my_tuple=([8,4,6],[1,2,3])\n",
    "print(\"Tuple to array:\")\n",
    "print(np.asarray(my_tuple))"
   ]
  },
  {
   "cell_type": "code",
   "execution_count": 134,
   "id": "918327ad",
   "metadata": {},
   "outputs": [
    {
     "data": {
      "text/plain": [
       "array([10, 20, 30, 40, 50, 60, 70, 80, 90])"
      ]
     },
     "execution_count": 134,
     "metadata": {},
     "output_type": "execute_result"
    }
   ],
   "source": [
    "arr6 = [10,20,30]\n",
    "arr6 = np.append(arr6,[[40,50,60],[70,80,90]])\n",
    "arr6"
   ]
  },
  {
   "cell_type": "markdown",
   "id": "ba1427d7",
   "metadata": {},
   "source": [
    "Arithmetic Operation with numpy Arrays"
   ]
  },
  {
   "cell_type": "code",
   "execution_count": 135,
   "id": "784fd7ac",
   "metadata": {},
   "outputs": [
    {
     "data": {
      "text/plain": [
       "array([[1., 2., 3.],\n",
       "       [4., 5., 6.]])"
      ]
     },
     "execution_count": 135,
     "metadata": {},
     "output_type": "execute_result"
    }
   ],
   "source": [
    "arr = np.array([[1.,2.,3.],[4.,5.,6.]])\n",
    "arr"
   ]
  },
  {
   "cell_type": "code",
   "execution_count": 136,
   "id": "06f92740",
   "metadata": {},
   "outputs": [
    {
     "data": {
      "text/plain": [
       "array([[ 1.,  4.,  9.],\n",
       "       [16., 25., 36.]])"
      ]
     },
     "execution_count": 136,
     "metadata": {},
     "output_type": "execute_result"
    }
   ],
   "source": [
    "# Array Multiplication\n",
    "arr*arr"
   ]
  },
  {
   "cell_type": "code",
   "execution_count": 137,
   "id": "54daaaef",
   "metadata": {},
   "outputs": [
    {
     "data": {
      "text/plain": [
       "array([[0., 0., 0.],\n",
       "       [0., 0., 0.]])"
      ]
     },
     "execution_count": 137,
     "metadata": {},
     "output_type": "execute_result"
    }
   ],
   "source": [
    "# Array Difference\n",
    "arr-arr"
   ]
  },
  {
   "cell_type": "code",
   "execution_count": 138,
   "id": "f2bebd19",
   "metadata": {},
   "outputs": [
    {
     "data": {
      "text/plain": [
       "array([[1., 1., 1.],\n",
       "       [1., 1., 1.]])"
      ]
     },
     "execution_count": 138,
     "metadata": {},
     "output_type": "execute_result"
    }
   ],
   "source": [
    "# Array Division\n",
    "arr/arr"
   ]
  },
  {
   "cell_type": "code",
   "execution_count": 139,
   "id": "13bd996c",
   "metadata": {},
   "outputs": [
    {
     "data": {
      "text/plain": [
       "array([[1.        , 0.5       , 0.33333333],\n",
       "       [0.25      , 0.2       , 0.16666667]])"
      ]
     },
     "execution_count": 139,
     "metadata": {},
     "output_type": "execute_result"
    }
   ],
   "source": [
    "1/arr"
   ]
  },
  {
   "cell_type": "code",
   "execution_count": 140,
   "id": "876c671f",
   "metadata": {},
   "outputs": [
    {
     "data": {
      "text/plain": [
       "array([[  1.,   8.,  27.],\n",
       "       [ 64., 125., 216.]])"
      ]
     },
     "execution_count": 140,
     "metadata": {},
     "output_type": "execute_result"
    }
   ],
   "source": [
    "# Compute eponential value of items in Array\n",
    "arr**3"
   ]
  },
  {
   "cell_type": "code",
   "execution_count": 141,
   "id": "1591a2ab",
   "metadata": {},
   "outputs": [
    {
     "data": {
      "text/plain": [
       "array([[ 0.,  4.,  1.],\n",
       "       [ 7.,  2., 12.]])"
      ]
     },
     "execution_count": 141,
     "metadata": {},
     "output_type": "execute_result"
    }
   ],
   "source": [
    "arr2 = np.array([[0.,4.,1.],[7.,2.,12.]])\n",
    "arr2"
   ]
  },
  {
   "cell_type": "code",
   "execution_count": 142,
   "id": "100ef21f",
   "metadata": {},
   "outputs": [
    {
     "data": {
      "text/plain": [
       "array([[False,  True, False],\n",
       "       [ True, False,  True]])"
      ]
     },
     "execution_count": 142,
     "metadata": {},
     "output_type": "execute_result"
    }
   ],
   "source": [
    "# Comparing Two Arrays\n",
    "arr2>arr"
   ]
  },
  {
   "cell_type": "code",
   "execution_count": 143,
   "id": "b12368f9",
   "metadata": {},
   "outputs": [
    {
     "data": {
      "text/plain": [
       "array([ True,  True,  True,  True, False, False, False, False, False])"
      ]
     },
     "execution_count": 143,
     "metadata": {},
     "output_type": "execute_result"
    }
   ],
   "source": [
    "x = np.array([-4, -3, -2, -1, 0, 1, 2, 3, 4])\n",
    "r1 = np.signbit(x)\n",
    "r1"
   ]
  },
  {
   "cell_type": "code",
   "execution_count": 144,
   "id": "49797bdf",
   "metadata": {},
   "outputs": [
    {
     "name": "stdout",
     "output_type": "stream",
     "text": [
      "Natural Log:\n",
      "[0. 1. 2.]\n",
      "Common Log:\n",
      "[0.         0.43429448 0.86858896]\n",
      "Base 2 log:\n",
      "[0.         1.44269504 2.88539008]\n"
     ]
    }
   ],
   "source": [
    "x = np.array([1, np.e, np.e**2])\n",
    "x\n",
    "print(\"Natural Log:\")\n",
    "print(np.log(x))\n",
    "print(\"Common Log:\")\n",
    "print(np.log10(x))\n",
    "print(\"Base 2 log:\")\n",
    "print(np.log2(x))"
   ]
  },
  {
   "cell_type": "code",
   "execution_count": 145,
   "id": "17aec89d",
   "metadata": {},
   "outputs": [
    {
     "name": "stdout",
     "output_type": "stream",
     "text": [
      "around function:\n",
      "[ 3.  4.  4.  3. -3. -4. -6.]\n",
      "floor function:\n",
      "[ 3.  3.  4.  2. -4. -4. -6.]\n",
      "ceil function:\n",
      "[ 4.  4.  5.  3. -3. -3. -5.]\n",
      "truncated function:\n",
      "[ 3.  3.  4.  2. -3. -3. -5.]\n",
      "Round function:\n",
      "[1, 3, 7]\n"
     ]
    }
   ],
   "source": [
    "arr = np.array([ 3.1, 3.5, 4.5, 2.9, -3.1, -3.5, -5.9])\n",
    "print(\"around function:\")\n",
    "print(np.around(arr))\n",
    "print(\"floor function:\")\n",
    "print(np.floor(arr))\n",
    "print(\"ceil function:\")\n",
    "print(np.ceil(arr))\n",
    "print(\"truncated function:\")\n",
    "print(np.trunc(arr))\n",
    "print(\"Round function:\")\n",
    "print([round(elem) for elem in x])"
   ]
  },
  {
   "cell_type": "code",
   "execution_count": 146,
   "id": "6b5fb02b",
   "metadata": {},
   "outputs": [
    {
     "name": "stdout",
     "output_type": "stream",
     "text": [
      "Sine:\n",
      "[ 0.         -0.98803162  0.85090352 -0.30481062  0.89399666]\n",
      "Cosine:\n",
      "[ 1.          0.15425145  0.52532199 -0.95241298 -0.44807362]\n",
      "Tangent:\n",
      "[ 0.         -6.4053312   1.61977519  0.32004039 -1.99520041]\n"
     ]
    }
   ],
   "source": [
    "arr = np.array([0., 30., 45., 60., 90.])\n",
    "print(\"Sine:\")\n",
    "print(np.sin(arr))\n",
    "print(\"Cosine:\")\n",
    "print(np.cos(arr))\n",
    "print(\"Tangent:\")\n",
    "print(np.tan(arr))"
   ]
  },
  {
   "cell_type": "code",
   "execution_count": 147,
   "id": "73d3df3c",
   "metadata": {},
   "outputs": [
    {
     "name": "stdout",
     "output_type": "stream",
     "text": [
      "Inverse Sine:\n",
      "[-1.57079633  0.          1.57079633]\n",
      "Inverse Cosine:\n",
      "[3.14159265 1.57079633 0.        ]\n",
      "Inverse Tangent:\n",
      "np.arctan(arr)\n"
     ]
    }
   ],
   "source": [
    "arr = np.array([-1., 0, 1.])\n",
    "print(\"Inverse Sine:\")\n",
    "print(np.arcsin(arr))\n",
    "print(\"Inverse Cosine:\")\n",
    "print(np.arccos(arr))\n",
    "print(\"Inverse Tangent:\")\n",
    "print(\"np.arctan(arr)\")"
   ]
  },
  {
   "cell_type": "markdown",
   "id": "8a0e8240",
   "metadata": {},
   "source": [
    "Indexing and Slicing"
   ]
  },
  {
   "cell_type": "code",
   "execution_count": 148,
   "id": "27bc696a",
   "metadata": {},
   "outputs": [],
   "source": [
    "x = np.array([\n",
    "  [11 ,22, 33], \n",
    "  [44, 55, 66], \n",
    "  [77, 88, 99]])"
   ]
  },
  {
   "cell_type": "code",
   "execution_count": 149,
   "id": "09d20234",
   "metadata": {},
   "outputs": [
    {
     "data": {
      "text/plain": [
       "array([33, 66, 99])"
      ]
     },
     "execution_count": 149,
     "metadata": {},
     "output_type": "execute_result"
    }
   ],
   "source": [
    "# printing the third column of array\n",
    "x[:,2]"
   ]
  },
  {
   "cell_type": "code",
   "execution_count": 150,
   "id": "cfb8872e",
   "metadata": {},
   "outputs": [],
   "source": [
    "y = np.array([\n",
    "  [3,6,9,12], \n",
    "  [15,18,21,24], \n",
    "  [27,30,33,36], \n",
    "  [39,42,45,48],\n",
    "  [51,54,57,60]\n",
    "  ])"
   ]
  },
  {
   "cell_type": "code",
   "execution_count": 151,
   "id": "09dbc796",
   "metadata": {},
   "outputs": [
    {
     "data": {
      "text/plain": [
       "array([[ 6, 12],\n",
       "       [30, 36],\n",
       "       [54, 60]])"
      ]
     },
     "execution_count": 151,
     "metadata": {},
     "output_type": "execute_result"
    }
   ],
   "source": [
    "# Returning odd rows and even coloumns\n",
    "y[::2,1::2]"
   ]
  },
  {
   "cell_type": "code",
   "execution_count": null,
   "id": "fb584837",
   "metadata": {},
   "outputs": [],
   "source": []
  }
 ],
 "metadata": {
  "kernelspec": {
   "display_name": "Python 3 (ipykernel)",
   "language": "python",
   "name": "python3"
  },
  "language_info": {
   "codemirror_mode": {
    "name": "ipython",
    "version": 3
   },
   "file_extension": ".py",
   "mimetype": "text/x-python",
   "name": "python",
   "nbconvert_exporter": "python",
   "pygments_lexer": "ipython3",
   "version": "3.9.12"
  }
 },
 "nbformat": 4,
 "nbformat_minor": 5
}
